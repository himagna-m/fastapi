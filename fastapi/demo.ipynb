{
 "cells": [
  {
   "cell_type": "code",
   "execution_count": null,
   "id": "4163fad2",
   "metadata": {},
   "outputs": [],
   "source": []
  },
  {
   "cell_type": "code",
   "execution_count": 1,
   "id": "b669da03",
   "metadata": {},
   "outputs": [],
   "source": [
    "from fastapi import FastAPI, HTTPException\n",
    "from pydantic import BaseModel\n",
    "from typing import List, Optional\n",
    "from db import Book, books_db\n",
    "\n",
    "app = FastAPI()\n",
    "\n",
    "books = books_db\n",
    "\n",
    "@app.post(\"/books/\", response_model=Book)\n",
    "def create_book(book: Book):\n",
    "    for b in books:\n",
    "        if b.id == book.id:\n",
    "            raise HTTPException(status_code=400, detail=\"Book with this ID already exists\")\n",
    "    books.append(book)\n",
    "    print('book is :', b.id)\n",
    "    return book\n",
    "\n",
    "@app.get(\"/books/\", response_model=List[Book])\n",
    "def get_all_books(skip: int = 0, limit: int = 10):\n",
    "    return books[skip:skip+limit]\n",
    "\n",
    "@app.get(\"/books/{book_id}\", response_model=Book)\n",
    "def get_book(book_id: int):\n",
    "    for book in books:\n",
    "        if book.id == book_id:\n",
    "            return book\n",
    "    raise HTTPException(status_code=404, detail=\"Book not found\")\n",
    "\n",
    "@app.delete(\"/books/{book_id}\", response_model=dict)\n",
    "def delete_book(book_id: int):\n",
    "    for index, book in enumerate(books):\n",
    "        if book.id == book_id:\n",
    "            books.pop(index)\n",
    "            return {\"message\": \"Book deleted\"}\n",
    "    raise HTTPException(status_code=404, detail=\"Book not found\")\n",
    "\n",
    "\n",
    "\n"
   ]
  },
  {
   "cell_type": "code",
   "execution_count": 2,
   "id": "324303e5",
   "metadata": {},
   "outputs": [
    {
     "name": "stdout",
     "output_type": "stream",
     "text": [
      "^C\n"
     ]
    }
   ],
   "source": [
    "!uvicorn demo:app --reload\n"
   ]
  },
  {
   "cell_type": "code",
   "execution_count": null,
   "id": "2796132f",
   "metadata": {},
   "outputs": [],
   "source": []
  }
 ],
 "metadata": {
  "kernelspec": {
   "display_name": "Python 3",
   "language": "python",
   "name": "python3"
  },
  "language_info": {
   "codemirror_mode": {
    "name": "ipython",
    "version": 3
   },
   "file_extension": ".py",
   "mimetype": "text/x-python",
   "name": "python",
   "nbconvert_exporter": "python",
   "pygments_lexer": "ipython3",
   "version": "3.13.4"
  }
 },
 "nbformat": 4,
 "nbformat_minor": 5
}
